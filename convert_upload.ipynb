{
  "cells": [
    {
      "cell_type": "markdown",
      "source": [
        "# Main"
      ],
      "metadata": {}
    },
    {
      "cell_type": "code",
      "source": [
        "import os\n",
        "import pandas as pd\n",
        "import boto3\n",
        "import configparser\n",
        "import os"
      ],
      "outputs": [],
      "execution_count": 2,
      "metadata": {
        "ExecuteTime": {
          "end_time": "2019-10-08T20:21:14.839399Z",
          "start_time": "2019-10-08T20:21:13.735345Z"
        }
      }
    },
    {
      "cell_type": "markdown",
      "source": [
        "## Convert to csv"
      ],
      "metadata": {}
    },
    {
      "cell_type": "code",
      "source": [
        "folder_path = \"/Users/pranavprajapati/Desktop/Projects_2019/Capstone_Data_Engineering/data/\"  # Destination folder\n",
        "save_path = \"/Users/pranavprajapati/Downloads/yelp-dataset/\"  # Data folder path\n",
        "\n",
        "\n",
        "def readFiles(save_path):\n",
        "    for path, dirname, filename in os.walk(save_path):\n",
        "        return path, filename"
      ],
      "outputs": [],
      "execution_count": 66,
      "metadata": {
        "ExecuteTime": {
          "end_time": "2019-10-08T20:30:19.906892Z",
          "start_time": "2019-10-08T20:30:19.899538Z"
        }
      }
    },
    {
      "cell_type": "code",
      "source": [
        "path, file_paths = readFiles(save_path)\n",
        "print(file_paths)"
      ],
      "outputs": [
        {
          "output_type": "stream",
          "name": "stdout",
          "text": [
            "['.DS_Store', 'yelp_academic_dataset_checkin.json', 'yelp_academic_dataset_tip.json', 'yelp_academic_dataset_review.json', 'yelp_academic_dataset_business.json', 'yelp_academic_dataset_user.json']\n"
          ]
        }
      ],
      "execution_count": 67,
      "metadata": {}
    },
    {
      "cell_type": "markdown",
      "source": [
        "Since there are 5.2 million reviews and lots of user data. I decided to take a portion out of them since my machine was not very powerful. You can choose to not perform these transformations and directly convert to csv."
      ],
      "metadata": {}
    },
    {
      "cell_type": "code",
      "source": [
        "for file in file_paths:\n",
        "    file_name, file_type = file.split('.', -1)\n",
        "    # EXTRACT 100000 from JSON\n",
        "    if file_type == 'json':\n",
        "        if \"review\" in file_name or \"user\" in file_name:\n",
        "            print(\"SAMPLE 100000 LINES\")\n",
        "            json = open(path + file, 'r', encoding=\"utf8\")\n",
        "            new = open(folder_path + file_name +\n",
        "                       \"_100k.json\", 'w+', encoding=\"utf8\")\n",
        "            for i in range(1, 100000):\n",
        "                new.write(json.readline())\n",
        "            new.close()\n",
        "            json.close()\n",
        "        elif (\"business\" in file_name) or (\"checkin\" in file_name) or (\"tip\" in file_name):\n",
        "            print(\"Directly convert to CSV\")\n",
        "            df = pd.read_json(path + file, lines=True)\n",
        "            df.to_csv(folder_path + file_name + \".csv\", index=None, header=True)"
      ],
      "outputs": [
        {
          "output_type": "stream",
          "name": "stdout",
          "text": [
            "Directly convert to CSV\n",
            "Directly convert to CSV\n",
            "SAMPLE 100000 LINES\n",
            "Directly convert to CSV\n",
            "SAMPLE 100000 LINES\n"
          ]
        }
      ],
      "execution_count": 68,
      "metadata": {}
    },
    {
      "cell_type": "markdown",
      "source": [
        "Remove unwanted data from certain files:"
      ],
      "metadata": {}
    },
    {
      "cell_type": "code",
      "source": [
        "business = pd.read_csv(\"data/yelp_academic_dataset_business.csv\")\n",
        "business = business.drop('attributes',axis=1)\n"
      ],
      "outputs": [],
      "execution_count": 7,
      "metadata": {}
    },
    {
      "cell_type": "markdown",
      "source": [
        "## Upload to S3\n"
      ],
      "metadata": {}
    },
    {
      "cell_type": "code",
      "source": [
        "AWS_KEY_ID = \"\"\n",
        "AWS_SECRET = \"\""
      ],
      "outputs": [],
      "execution_count": 60,
      "metadata": {}
    },
    {
      "cell_type": "code",
      "source": [
        "s3 = boto3.client('s3', aws_access_key_id=AWS_KEY_ID,\n",
        "                  aws_secret_access_key=AWS_SECRET)\n",
        "bucket_name = 'pranav-capstone'"
      ],
      "outputs": [],
      "execution_count": 61,
      "metadata": {}
    },
    {
      "cell_type": "code",
      "source": [
        "folder_path = \"/Users/pranavprajapati/Desktop/Projects_2019/Capstone_Data_Engineering/data/\"\n",
        "file_names = [folder_path+file for file in os.listdir(folder_path)]"
      ],
      "outputs": [],
      "execution_count": 62,
      "metadata": {}
    },
    {
      "cell_type": "code",
      "source": [
        "bkt = s3.create_bucket(Bucket='psp-capstone')"
      ],
      "outputs": [],
      "execution_count": 63,
      "metadata": {}
    },
    {
      "cell_type": "code",
      "source": [
        "bucket_name = 'psp-capstone'\n",
        "for f in file_names:\n",
        "    s3.upload_file(f, bucket_name, bucket_name+\"/raw/\" + f.split(\"/\")[-1])"
      ],
      "outputs": [],
      "execution_count": 64,
      "metadata": {}
    },
    {
      "cell_type": "code",
      "source": [
        "buckets = s3.list_buckets()\n",
        "print(buckets)"
      ],
      "outputs": [],
      "execution_count": null,
      "metadata": {}
    },
    {
      "cell_type": "code",
      "source": [],
      "outputs": [],
      "execution_count": null,
      "metadata": {}
    }
  ],
  "metadata": {
    "kernelspec": {
      "display_name": "Python 3",
      "language": "python",
      "name": "python3"
    },
    "language_info": {
      "codemirror_mode": {
        "name": "ipython",
        "version": 3
      },
      "file_extension": ".py",
      "mimetype": "text/x-python",
      "name": "python",
      "nbconvert_exporter": "python",
      "pygments_lexer": "ipython3",
      "version": "3.7.1"
    },
    "toc": {
      "toc_position": {},
      "skip_h1_title": false,
      "number_sections": true,
      "title_cell": "Table of Contents",
      "toc_window_display": false,
      "base_numbering": 1,
      "toc_section_display": true,
      "title_sidebar": "Contents",
      "toc_cell": false,
      "nav_menu": {},
      "sideBar": true
    },
    "varInspector": {
      "cols": {
        "lenName": 16,
        "lenType": 16,
        "lenVar": 40
      },
      "kernels_config": {
        "python": {
          "delete_cmd_postfix": "",
          "delete_cmd_prefix": "del ",
          "library": "var_list.py",
          "varRefreshCmd": "print(var_dic_list())"
        },
        "r": {
          "delete_cmd_postfix": ") ",
          "delete_cmd_prefix": "rm(",
          "library": "var_list.r",
          "varRefreshCmd": "cat(var_dic_list()) "
        }
      },
      "types_to_exclude": [
        "module",
        "function",
        "builtin_function_or_method",
        "instance",
        "_Feature"
      ],
      "window_display": false
    },
    "nteract": {
      "version": "0.15.0"
    }
  },
  "nbformat": 4,
  "nbformat_minor": 2
}