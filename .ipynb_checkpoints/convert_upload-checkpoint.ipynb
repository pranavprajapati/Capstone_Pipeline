{
 "cells": [
  {
   "cell_type": "markdown",
   "metadata": {},
   "source": [
    "# Main"
   ]
  },
  {
   "cell_type": "code",
   "execution_count": 2,
   "metadata": {
    "ExecuteTime": {
     "end_time": "2019-10-08T20:21:14.839399Z",
     "start_time": "2019-10-08T20:21:13.735345Z"
    }
   },
   "outputs": [],
   "source": [
    "import os\n",
    "import pandas as pd\n",
    "import boto3\n",
    "import configparser\n",
    "import os"
   ]
  },
  {
   "cell_type": "markdown",
   "metadata": {},
   "source": [
    "## Convert to csv"
   ]
  },
  {
   "cell_type": "code",
   "execution_count": 66,
   "metadata": {
    "ExecuteTime": {
     "end_time": "2019-10-08T20:30:19.906892Z",
     "start_time": "2019-10-08T20:30:19.899538Z"
    }
   },
   "outputs": [],
   "source": [
    "folder_path = \"/Users/pranavprajapati/Desktop/Projects_2019/Capstone_Data_Engineering/data/\"  # Destination folder\n",
    "save_path = \"/Users/pranavprajapati/Downloads/yelp-dataset/\"  # Data folder path\n",
    "\n",
    "\n",
    "def readFiles(save_path):\n",
    "    for path, dirname, filename in os.walk(save_path):\n",
    "        return path, filename"
   ]
  },
  {
   "cell_type": "code",
   "execution_count": 67,
   "metadata": {},
   "outputs": [
    {
     "name": "stdout",
     "output_type": "stream",
     "text": [
      "['.DS_Store', 'yelp_academic_dataset_checkin.json', 'yelp_academic_dataset_tip.json', 'yelp_academic_dataset_review.json', 'yelp_academic_dataset_business.json', 'yelp_academic_dataset_user.json']\n"
     ]
    }
   ],
   "source": [
    "path, file_paths = readFiles(save_path)\n",
    "print(file_paths)"
   ]
  },
  {
   "cell_type": "markdown",
   "metadata": {},
   "source": [
    "Since there are 5.2 million reviews and lots of user data. I decided to take a portion out of them since my machine was not very powerful. You can choose to not perform these transformations and directly convert to csv."
   ]
  },
  {
   "cell_type": "code",
   "execution_count": 68,
   "metadata": {},
   "outputs": [
    {
     "name": "stdout",
     "output_type": "stream",
     "text": [
      "Directly convert to CSV\n",
      "Directly convert to CSV\n",
      "SAMPLE 100000 LINES\n",
      "Directly convert to CSV\n",
      "SAMPLE 100000 LINES\n"
     ]
    }
   ],
   "source": [
    "for file in file_paths:\n",
    "    file_name, file_type = file.split('.', -1)\n",
    "    # EXTRACT 1000000 from JSON\n",
    "    if file_type == 'json':\n",
    "        if \"review\" in file_name or \"user\" in file_name:\n",
    "            print(\"SAMPLE 1000000 LINES\")\n",
    "            json = open(path + file, 'r', encoding=\"utf8\")\n",
    "            new = open(folder_path + file_name +\n",
    "                       \"_100k.json\", 'w+', encoding=\"utf8\")\n",
    "            for i in range(1, 1000000):\n",
    "                new.write(json.readline())\n",
    "            new.close()\n",
    "            json.close()\n",
    "        elif (\"business\" in file_name) or (\"checkin\" in file_name) or (\"tip\" in file_name):\n",
    "            print(\"Directly convert to CSV\")\n",
    "            df = pd.read_json(path + file, lines=True)\n",
    "            df.to_csv(folder_path + file_name + \".csv\", index=None, header=True)"
   ]
  },
  {
   "cell_type": "markdown",
   "metadata": {},
   "source": [
    "Remove unwanted data from certain files:"
   ]
  },
  {
   "cell_type": "code",
   "execution_count": 7,
   "metadata": {},
   "outputs": [],
   "source": [
    "business = pd.read_csv(\"data/yelp_academic_dataset_business.csv\")\n",
    "business = business.drop('attributes',axis=1)\n"
   ]
  },
  {
   "cell_type": "markdown",
   "metadata": {},
   "source": [
    "## Upload to S3\n"
   ]
  },
  {
   "cell_type": "code",
   "execution_count": 60,
   "metadata": {},
   "outputs": [],
   "source": [
    "AWS_KEY_ID = \"\"\n",
    "AWS_SECRET = \"\""
   ]
  },
  {
   "cell_type": "code",
   "execution_count": 61,
   "metadata": {},
   "outputs": [],
   "source": [
    "s3 = boto3.client('s3', aws_access_key_id=AWS_KEY_ID,\n",
    "                  aws_secret_access_key=AWS_SECRET)\n",
    "bucket_name = 'pranav-capstone'"
   ]
  },
  {
   "cell_type": "code",
   "execution_count": 62,
   "metadata": {},
   "outputs": [],
   "source": [
    "folder_path = \"/Users/pranavprajapati/Desktop/Projects_2019/Capstone_Data_Engineering/data/\"\n",
    "file_names = [folder_path+file for file in os.listdir(folder_path)]"
   ]
  },
  {
   "cell_type": "code",
   "execution_count": 63,
   "metadata": {},
   "outputs": [],
   "source": [
    "bkt = s3.create_bucket(Bucket='psp-capstone')"
   ]
  },
  {
   "cell_type": "code",
   "execution_count": 64,
   "metadata": {},
   "outputs": [],
   "source": [
    "bucket_name = 'psp-capstone'\n",
    "for f in file_names:\n",
    "    s3.upload_file(f, bucket_name, bucket_name+\"/raw/\" + f.split(\"/\")[-1])"
   ]
  },
  {
   "cell_type": "code",
   "execution_count": null,
   "metadata": {},
   "outputs": [],
   "source": [
    "buckets = s3.list_buckets()\n",
    "print(buckets)"
   ]
  },
  {
   "cell_type": "code",
   "execution_count": null,
   "metadata": {},
   "outputs": [],
   "source": []
  }
 ],
 "metadata": {
  "kernelspec": {
   "display_name": "Python 3",
   "language": "python",
   "name": "python3"
  },
  "language_info": {
   "codemirror_mode": {
    "name": "ipython",
    "version": 3
   },
   "file_extension": ".py",
   "mimetype": "text/x-python",
   "name": "python",
   "nbconvert_exporter": "python",
   "pygments_lexer": "ipython3",
   "version": "3.7.1"
  },
  "nteract": {
   "version": "0.15.0"
  },
  "toc": {
   "base_numbering": 1,
   "nav_menu": {},
   "number_sections": true,
   "sideBar": true,
   "skip_h1_title": false,
   "title_cell": "Table of Contents",
   "title_sidebar": "Contents",
   "toc_cell": false,
   "toc_position": {},
   "toc_section_display": true,
   "toc_window_display": false
  },
  "varInspector": {
   "cols": {
    "lenName": 16,
    "lenType": 16,
    "lenVar": 40
   },
   "kernels_config": {
    "python": {
     "delete_cmd_postfix": "",
     "delete_cmd_prefix": "del ",
     "library": "var_list.py",
     "varRefreshCmd": "print(var_dic_list())"
    },
    "r": {
     "delete_cmd_postfix": ") ",
     "delete_cmd_prefix": "rm(",
     "library": "var_list.r",
     "varRefreshCmd": "cat(var_dic_list()) "
    }
   },
   "types_to_exclude": [
    "module",
    "function",
    "builtin_function_or_method",
    "instance",
    "_Feature"
   ],
   "window_display": false
  }
 },
 "nbformat": 4,
 "nbformat_minor": 2
}
